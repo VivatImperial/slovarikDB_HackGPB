{
 "cells": [
  {
   "cell_type": "code",
   "execution_count": null,
   "id": "fb15840a",
   "metadata": {},
   "outputs": [],
   "source": [
    "import polars as pl\n",
    "import pandas as pd\n",
    "import warnings\n",
    "\n",
    "warnings.filterwarnings('ignore')"
   ]
  },
  {
   "cell_type": "markdown",
   "id": "75b45f42",
   "metadata": {},
   "source": [
    "## Msk"
   ]
  },
  {
   "cell_type": "code",
   "execution_count": null,
   "id": "e2767eb6",
   "metadata": {},
   "outputs": [],
   "source": [
    "data = pl.read_csv(r\"C:\\Users\\sahab\\Downloads\\Telegram Desktop\\data (2).csv\")\n",
    "print(data.shape)\n",
    "data.head(5)"
   ]
  },
  {
   "cell_type": "code",
   "execution_count": null,
   "id": "f96c2a13",
   "metadata": {},
   "outputs": [],
   "source": [
    "data_for_forecasting = data[[\"updated\", \"price\", \"rooms\"]]"
   ]
  },
  {
   "cell_type": "code",
   "execution_count": null,
   "id": "f6344f51",
   "metadata": {},
   "outputs": [],
   "source": [
    "def encode_room_val(val: int):\n",
    "    if val == 0:\n",
    "        return \"0\"\n",
    "    if val == 1:\n",
    "        return \"1\"\n",
    "    if val == 2:\n",
    "        return \"2\"\n",
    "    if val == 3:\n",
    "        return \"3\"\n",
    "    else:\n",
    "        return \"4+\"\n",
    "\n",
    "    \n",
    "def get_prepared_for_forecast(df: pl.DataFrame):\n",
    "    df_grouped_by_data = df.groupby(\"date\").agg(pl.col(\"price\").mean())\n",
    "    \n",
    "    return df_grouped_by_data.sort(\"date\", descending=False)\n",
    "\n",
    "\n",
    "encoded_rooms = data_for_forecasting[\"rooms\"].apply(lambda x: encode_room_val(x))\n",
    "\n",
    "data_for_forecasting = data_for_forecasting.with_columns(\n",
    "    encoded_rooms.alias(\"encoded_rooms\")\n",
    ")\n",
    "\n",
    "data_for_forecasting_0 = data_for_forecasting.filter(\n",
    "    pl.col(\"encoded_rooms\") == \"0\"\n",
    ")\n",
    "\n",
    "\n",
    "data_for_forecasting_1 = data_for_forecasting.filter(\n",
    "    pl.col(\"encoded_rooms\") == \"1\"\n",
    ")\n",
    "\n",
    "data_for_forecasting_2 = data_for_forecasting.filter(\n",
    "    pl.col(\"encoded_rooms\") == \"2\"\n",
    ")\n",
    "\n",
    "data_for_forecasting_3 = data_for_forecasting.filter(\n",
    "    pl.col(\"encoded_rooms\") == \"3\"\n",
    ")\n",
    "\n",
    "data_for_forecasting_4 = data_for_forecasting.filter(\n",
    "    pl.col(\"encoded_rooms\") == \"4+\"\n",
    ")\n",
    "\n",
    "data_for_forecasting_0_prepared_msk = get_prepared_for_forecast(data_for_forecasting_0)\n",
    "data_for_forecasting_1_prepared_msk = get_prepared_for_forecast(data_for_forecasting_1)\n",
    "data_for_forecasting_2_prepared_msk = get_prepared_for_forecast(data_for_forecasting_2)\n",
    "data_for_forecasting_3_prepared_msk = get_prepared_for_forecast(data_for_forecasting_3)\n",
    "data_for_forecasting_4_prepared_msk = get_prepared_for_forecast(data_for_forecasting_4)"
   ]
  },
  {
   "cell_type": "markdown",
   "id": "542f1bd3",
   "metadata": {},
   "source": [
    "## Spb"
   ]
  },
  {
   "cell_type": "code",
   "execution_count": null,
   "id": "ef87ec28",
   "metadata": {},
   "outputs": [],
   "source": [
    "data_spb = pl.read_csv(r\"C:\\Users\\sahab\\Desktop\\slovarik\\spb_data.csv\", infer_schema_length=100000)\n",
    "print(data_spb.shape)\n",
    "data_spb.head(5)"
   ]
  },
  {
   "cell_type": "code",
   "execution_count": null,
   "id": "4789219c",
   "metadata": {},
   "outputs": [],
   "source": [
    "data_for_forecasting = data_spb[[\"data_new\", \"price\", \"rooms\"]]\n",
    "\n",
    "data_for_forecasting = data_for_forecasting.with_columns(\n",
    "    pl.col(\"data_new\").str.to_datetime().cast(pl.Date).alias(\"date\")\n",
    ")"
   ]
  },
  {
   "cell_type": "code",
   "execution_count": null,
   "id": "d21f1b55",
   "metadata": {},
   "outputs": [],
   "source": [
    "def encode_room_val(val: int):\n",
    "    if val == 0:\n",
    "        return \"0\"\n",
    "    if val == 1:\n",
    "        return \"1\"\n",
    "    if val == 2:\n",
    "        return \"2\"\n",
    "    if val == 3:\n",
    "        return \"3\"\n",
    "    else:\n",
    "        return \"4+\"\n",
    "\n",
    "\n",
    "def get_prepared_for_forecast(df: pl.DataFrame):\n",
    "    df_grouped_by_data = df.groupby(\"date\").agg(pl.col(\"price\").mean())\n",
    "    \n",
    "    return df_grouped_by_data.sort(\"date\", descending=False)\n",
    "\n",
    "    \n",
    "encoded_rooms = data_for_forecasting[\"rooms\"].apply(lambda x: encode_room_val(x))\n",
    "\n",
    "data_for_forecasting = data_for_forecasting.with_columns(\n",
    "    encoded_rooms.alias(\"encoded_rooms\")\n",
    ")\n",
    "\n",
    "data_for_forecasting_spb_0 = data_for_forecasting.filter(\n",
    "    pl.col(\"rooms\") == \"0\"\n",
    ")\n",
    "\n",
    "\n",
    "data_for_forecasting_spb_1 = data_for_forecasting.filter(\n",
    "    pl.col(\"rooms\") == \"1\"\n",
    ")\n",
    "\n",
    "data_for_forecasting_spb_2 = data_for_forecasting.filter(\n",
    "    pl.col(\"rooms\") == \"2\"\n",
    ")\n",
    "\n",
    "data_for_forecasting_spb_3 = data_for_forecasting.filter(\n",
    "    pl.col(\"rooms\") == \"3\"\n",
    ")\n",
    "\n",
    "data_for_forecasting_spb_4 = data_for_forecasting.filter(\n",
    "    pl.col(\"rooms\") == \"4+\"\n",
    ")\n",
    "\n",
    "data_spb_for_forecasting_0_prepared_spb = get_prepared_for_forecast(data_for_forecasting_spb_0)\n",
    "data_spb_for_forecasting_1_prepared_spb = get_prepared_for_forecast(data_for_forecasting_spb_1)\n",
    "data_spb_for_forecasting_2_prepared_spb = get_prepared_for_forecast(data_for_forecasting_spb_2)\n",
    "data_spb_for_forecasting_3_prepared_spb = get_prepared_for_forecast(data_for_forecasting_spb_3)\n",
    "data_spb_for_forecasting_4_prepared_spb = get_prepared_for_forecast(data_for_forecasting_spb_4)"
   ]
  }
 ],
 "metadata": {
  "kernelspec": {
   "display_name": "Python 3 (ipykernel)",
   "language": "python",
   "name": "python3"
  },
  "language_info": {
   "codemirror_mode": {
    "name": "ipython",
    "version": 3
   },
   "file_extension": ".py",
   "mimetype": "text/x-python",
   "name": "python",
   "nbconvert_exporter": "python",
   "pygments_lexer": "ipython3",
   "version": "3.9.7"
  }
 },
 "nbformat": 4,
 "nbformat_minor": 5
}
