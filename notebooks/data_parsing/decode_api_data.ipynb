{
 "cells": [
  {
   "cell_type": "code",
   "execution_count": null,
   "id": "16d541a0",
   "metadata": {},
   "outputs": [],
   "source": [
    "import polars as pl\n",
    "import pandas as pd\n",
    "import requests"
   ]
  },
  {
   "cell_type": "code",
   "execution_count": null,
   "id": "e6af0e76",
   "metadata": {},
   "outputs": [],
   "source": [
    "def add_metro_and_dist(metro_df, df):\n",
    "\n",
    "    lat_array = np.array(metro_df['lat'])\n",
    "    lon_array = np.array(metro_df['lng'])\n",
    "    station_dct = {index: station for index, station in enumerate(metro_df['station'])}\n",
    "    coefficient = 40000 / 360\n",
    "\n",
    "    def compute_closest(lat, lon):\n",
    "        distances = (lat_array - lat) ** 2 + (lon_array - lon) ** 2\n",
    "        index = np.argmin(distances)\n",
    "        return index, distances[index]\n",
    "    \n",
    "    closest_metro = []\n",
    "    distances = []\n",
    "    \n",
    "    for lat, lon in zip(df['lat'], df['lng']):\n",
    "        index, value = compute_closest(lat, lon)\n",
    "        closest_metro.append(station_dct[index])\n",
    "        distances.append(np.sqrt(value) * coefficient)\n",
    "        \n",
    "    df['closest_station'] = closest_metro\n",
    "    df['dist_to_station'] = distances\n",
    "    \n",
    "    return df"
   ]
  },
  {
   "cell_type": "markdown",
   "id": "fcf23889",
   "metadata": {},
   "source": [
    "## Msk"
   ]
  },
  {
   "cell_type": "code",
   "execution_count": null,
   "id": "0503a739",
   "metadata": {},
   "outputs": [],
   "source": [
    "msk_data_prepared = pd.read_csv(r\"C:\\Users\\sahab\\Downloads\\Telegram Desktop\\data.csv\")\n",
    "msk_data_prepared.head(5)"
   ]
  },
  {
   "cell_type": "code",
   "execution_count": null,
   "id": "e2bdc5c3",
   "metadata": {},
   "outputs": [],
   "source": [
    "stations = pd.read_csv(r\"C:\\Users\\sahab\\Downloads\\Telegram Desktop\\stations.csv\")\n",
    "stations.head(5)"
   ]
  },
  {
   "cell_type": "code",
   "execution_count": null,
   "id": "1e922888",
   "metadata": {},
   "outputs": [],
   "source": [
    "headers = {\n",
    "    'Accept': 'application/json',\n",
    "}\n",
    "\n",
    "section_json = requests.get('https://inpars.ru/api/v2/estate/section?access-token=aEcS9UfAagInparSiv23aoa_vPzxqWvm', headers=headers).json()\n",
    "\n",
    "section_map = {\n",
    "    i[\"id\"]: i[\"title\"] for i in section_json[\"data\"]\n",
    "}\n",
    "\n",
    "msk_data_prepared[\"section_name\"] = msk_data_prepared.sectionId.apply(lambda x: section_map[x])\n"
   ]
  },
  {
   "cell_type": "code",
   "execution_count": null,
   "id": "2274a74c",
   "metadata": {},
   "outputs": [],
   "source": [
    "category_json = requests.get('https://inpars.ru/api/v2/estate/category?access-token=aEcS9UfAagInparSiv23aoa_vPzxqWvm', headers=headers).json()\n",
    "\n",
    "category_map = {\n",
    "    i[\"id\"]: i[\"title\"] for i in category_json[\"data\"]\n",
    "}\n",
    "\n",
    "msk_data_prepared[\"category_name\"] = msk_data_prepared.categoryId.apply(lambda x: category_map[x])"
   ]
  },
  {
   "cell_type": "code",
   "execution_count": null,
   "id": "dfea1db7",
   "metadata": {},
   "outputs": [],
   "source": [
    "msk_data_prepared = add_metro_and_dist(stations, data_spb_raw)\n",
    "\n",
    "msk_data_prepared = msk_data_prepared.drop(columns=[\"closest_metro\", \"sectionId\", 'categoryId', 'updated'])"
   ]
  },
  {
   "cell_type": "markdown",
   "id": "82c44d34",
   "metadata": {},
   "source": [
    "## Spb"
   ]
  },
  {
   "cell_type": "code",
   "execution_count": null,
   "id": "fb92a1c4",
   "metadata": {},
   "outputs": [],
   "source": [
    "spb_data_prepared = pd.read_csv(r\"C:\\Users\\sahab\\spb.csv\")\n",
    "spb_data_prepared.head(5)"
   ]
  },
  {
   "cell_type": "code",
   "execution_count": null,
   "id": "ff44c8a3",
   "metadata": {},
   "outputs": [],
   "source": [
    "spb_data_prepared[\"section_name\"] = spb_data_prepared.sectionId.apply(lambda x: section_map[x])\n",
    "\n",
    "spb_data_prepared[\"category_name\"] = spb_data_prepared.categoryId.apply(lambda x: category_map[x])\n",
    "\n",
    "data_spb_prepared = add_metro_and_dist(stations, data_spb_raw)\n",
    "\n",
    "data_spb_prepared = data_spb_prepared.drop(columns=[\"closest_metro\", \"sectionId\", 'categoryId', 'updated'])"
   ]
  }
 ],
 "metadata": {
  "kernelspec": {
   "display_name": "myenv",
   "language": "python",
   "name": "myenv"
  },
  "language_info": {
   "codemirror_mode": {
    "name": "ipython",
    "version": 3
   },
   "file_extension": ".py",
   "mimetype": "text/x-python",
   "name": "python",
   "nbconvert_exporter": "python",
   "pygments_lexer": "ipython3",
   "version": "3.9.7"
  }
 },
 "nbformat": 4,
 "nbformat_minor": 5
}
