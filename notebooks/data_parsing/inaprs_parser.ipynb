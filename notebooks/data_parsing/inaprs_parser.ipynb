{
 "cells": [
  {
   "cell_type": "code",
   "execution_count": null,
   "id": "5d76af36",
   "metadata": {},
   "outputs": [],
   "source": [
    "import requests\n",
    "import json\n",
    "import base64\n",
    "from time import strptime\n",
    "import datetime\n",
    "import time"
   ]
  },
  {
   "cell_type": "code",
   "execution_count": null,
   "id": "15de6ea3",
   "metadata": {},
   "outputs": [],
   "source": [
    "def get_api_data(data_num: int, api_key_64: str, auth_str: str) -> list:\n",
    "    \"\"\"Get api data. data_num -> num of thousands advs\"\"\"\n",
    "    url = 'https://inpars.ru/api/v2/estate'\n",
    "    \n",
    "    last_date = 1693305224\n",
    "    \n",
    "    headers = {\n",
    "        'Accept': 'application/json',\n",
    "        'Authorization': auth_str,\n",
    "    }\n",
    "    \n",
    "    set_of_advs = []\n",
    "    for i in range(1, data_num+1):\n",
    "        if i % 10 == 0:\n",
    "            time.sleep(65)\n",
    "            print(\"wait\")\n",
    "\n",
    "        print(last_date)\n",
    "\n",
    "        data = {\n",
    "            'access-token': api_key_64,\n",
    "            'limit': 1000,\n",
    "            'sortBy': 'created_desc',\n",
    "            'sourceId': '1,2,4,5,7,9,11,13,19,20,21,22',\n",
    "            'timeEnd': last_date,\n",
    "            'expand': 'material,isNew',\n",
    "        }\n",
    "\n",
    "        try:\n",
    "            response = requests.get(url, headers=headers, data=data, stream=True)\n",
    "            response_json = response.json()\n",
    "            data_iter = response_json[\"data\"]\n",
    "            set_of_advs.extend(data_iter)\n",
    "    \n",
    "            last_date = data_iter[-1][\"created\"]\n",
    "    \n",
    "            time_obj = datetime.datetime.strptime(last_date[:-6].replace(\"T\", \" \"), '%Y-%m-%d %H:%M:%S')\n",
    "            last_date = int(time_obj.timestamp())\n",
    "        except KeyError:\n",
    "            print(response, response.text)\n",
    "            return  set_of_advs\n",
    "\n",
    "    return  set_of_advs\n",
    "\n"
   ]
  },
  {
   "cell_type": "code",
   "execution_count": null,
   "id": "0c06d11d",
   "metadata": {},
   "outputs": [],
   "source": [
    "res = get_api_data(100)\n",
    "\n",
    "df = pd.DataFrame(res)"
   ]
  }
 ],
 "metadata": {
  "kernelspec": {
   "display_name": "myenv",
   "language": "python",
   "name": "myenv"
  },
  "language_info": {
   "codemirror_mode": {
    "name": "ipython",
    "version": 3
   },
   "file_extension": ".py",
   "mimetype": "text/x-python",
   "name": "python",
   "nbconvert_exporter": "python",
   "pygments_lexer": "ipython3",
   "version": "3.9.7"
  }
 },
 "nbformat": 4,
 "nbformat_minor": 5
}
